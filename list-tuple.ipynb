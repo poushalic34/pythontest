{
 "cells": [
  {
   "cell_type": "code",
   "execution_count": 1,
   "id": "603177bb-a355-4817-bad5-1c6f42e49c46",
   "metadata": {},
   "outputs": [],
   "source": [
    "t=()"
   ]
  },
  {
   "cell_type": "code",
   "execution_count": 2,
   "id": "eb74931c-8ec5-4e77-a704-81cf25e56338",
   "metadata": {},
   "outputs": [
    {
     "ename": "NameError",
     "evalue": "name 't1' is not defined",
     "output_type": "error",
     "traceback": [
      "\u001b[1;31m---------------------------------------------------------------------------\u001b[0m",
      "\u001b[1;31mNameError\u001b[0m                                 Traceback (most recent call last)",
      "\u001b[1;32m<ipython-input-2-fd65ffb86e6f>\u001b[0m in \u001b[0;36m<module>\u001b[1;34m\u001b[0m\n\u001b[1;32m----> 1\u001b[1;33m \u001b[1;32mif\u001b[0m \u001b[0mt1\u001b[0m\u001b[1;33m:\u001b[0m\u001b[1;33m\u001b[0m\u001b[1;33m\u001b[0m\u001b[0m\n\u001b[0m\u001b[0;32m      2\u001b[0m     \u001b[0mprint\u001b[0m\u001b[1;33m(\u001b[0m\u001b[1;34m'something in tupple'\u001b[0m\u001b[1;33m)\u001b[0m\u001b[1;33m\u001b[0m\u001b[1;33m\u001b[0m\u001b[0m\n\u001b[0;32m      3\u001b[0m \u001b[1;32melse\u001b[0m\u001b[1;33m:\u001b[0m\u001b[1;33m\u001b[0m\u001b[1;33m\u001b[0m\u001b[0m\n\u001b[0;32m      4\u001b[0m     \u001b[0mprint\u001b[0m\u001b[1;33m(\u001b[0m\u001b[1;34m'blank'\u001b[0m\u001b[1;33m)\u001b[0m\u001b[1;33m\u001b[0m\u001b[1;33m\u001b[0m\u001b[0m\n",
      "\u001b[1;31mNameError\u001b[0m: name 't1' is not defined"
     ]
    }
   ],
   "source": [
    "if t1:\n",
    "    print('something in tupple')\n",
    "else:\n",
    "    print('blank')"
   ]
  },
  {
   "cell_type": "code",
   "execution_count": 3,
   "id": "85db8c4a-8027-4db9-b42d-99ee46032e5b",
   "metadata": {},
   "outputs": [
    {
     "name": "stdout",
     "output_type": "stream",
     "text": [
      "blank\n"
     ]
    }
   ],
   "source": [
    "if t:\n",
    "    print('something in tupple')\n",
    "else:\n",
    "    print('blank')"
   ]
  },
  {
   "cell_type": "code",
   "execution_count": 4,
   "id": "fd86dc01-5f6e-4d60-abc4-f0407d8158ff",
   "metadata": {},
   "outputs": [],
   "source": [
    "t=('python','java',100,22.34)"
   ]
  },
  {
   "cell_type": "code",
   "execution_count": 5,
   "id": "01f8c4d6-8850-45a9-9141-c7fb4b589fba",
   "metadata": {},
   "outputs": [
    {
     "name": "stdout",
     "output_type": "stream",
     "text": [
      "something in tupple\n"
     ]
    }
   ],
   "source": [
    "if t:\n",
    "    print('something in tupple')\n",
    "else:\n",
    "    print('blank')"
   ]
  },
  {
   "cell_type": "code",
   "execution_count": 6,
   "id": "e2db7398-203c-40f0-a964-db001ddbda5f",
   "metadata": {},
   "outputs": [],
   "source": [
    "t='python','java',100,22.34"
   ]
  },
  {
   "cell_type": "code",
   "execution_count": 7,
   "id": "4952296e-114b-4eb4-b99e-07a686c27021",
   "metadata": {},
   "outputs": [
    {
     "name": "stdout",
     "output_type": "stream",
     "text": [
      "<class 'tuple'>\n"
     ]
    }
   ],
   "source": [
    "print(type(t))"
   ]
  },
  {
   "cell_type": "code",
   "execution_count": 8,
   "id": "40f673b1-214b-4d1e-9c11-7d1f89b7686f",
   "metadata": {},
   "outputs": [],
   "source": [
    "t=('spiderman','ironman','hulk','seven','rock')"
   ]
  },
  {
   "cell_type": "code",
   "execution_count": 9,
   "id": "58612eff-f112-4801-9917-907c02ad0aef",
   "metadata": {},
   "outputs": [
    {
     "data": {
      "text/plain": [
       "('spiderman', 'ironman', 'hulk', 'seven', 'rock')"
      ]
     },
     "execution_count": 9,
     "metadata": {},
     "output_type": "execute_result"
    }
   ],
   "source": [
    "t"
   ]
  },
  {
   "cell_type": "code",
   "execution_count": 10,
   "id": "60800567-ee7b-467a-9843-b26d54c2d2b8",
   "metadata": {},
   "outputs": [
    {
     "data": {
      "text/plain": [
       "'spiderman'"
      ]
     },
     "execution_count": 10,
     "metadata": {},
     "output_type": "execute_result"
    }
   ],
   "source": [
    "t[0]"
   ]
  },
  {
   "cell_type": "code",
   "execution_count": 11,
   "id": "019ab33a-d4cf-4aec-a5fa-b62304c2da17",
   "metadata": {},
   "outputs": [
    {
     "data": {
      "text/plain": [
       "'rock'"
      ]
     },
     "execution_count": 11,
     "metadata": {},
     "output_type": "execute_result"
    }
   ],
   "source": [
    "t[4]"
   ]
  },
  {
   "cell_type": "code",
   "execution_count": 12,
   "id": "4461e3e0-ffae-4e4b-9c4a-55fc41a0688b",
   "metadata": {},
   "outputs": [
    {
     "ename": "IndexError",
     "evalue": "tuple index out of range",
     "output_type": "error",
     "traceback": [
      "\u001b[1;31m---------------------------------------------------------------------------\u001b[0m",
      "\u001b[1;31mIndexError\u001b[0m                                Traceback (most recent call last)",
      "\u001b[1;32m<ipython-input-12-b2178ac8e2a4>\u001b[0m in \u001b[0;36m<module>\u001b[1;34m\u001b[0m\n\u001b[1;32m----> 1\u001b[1;33m \u001b[0mt\u001b[0m\u001b[1;33m[\u001b[0m\u001b[1;36m33\u001b[0m\u001b[1;33m]\u001b[0m\u001b[1;33m\u001b[0m\u001b[1;33m\u001b[0m\u001b[0m\n\u001b[0m",
      "\u001b[1;31mIndexError\u001b[0m: tuple index out of range"
     ]
    }
   ],
   "source": [
    "t[33]"
   ]
  },
  {
   "cell_type": "code",
   "execution_count": 13,
   "id": "222d7011-1f80-45d6-8e7c-36c4156756e3",
   "metadata": {},
   "outputs": [
    {
     "data": {
      "text/plain": [
       "'spiderman'"
      ]
     },
     "execution_count": 13,
     "metadata": {},
     "output_type": "execute_result"
    }
   ],
   "source": [
    "t[-5]"
   ]
  },
  {
   "cell_type": "code",
   "execution_count": 14,
   "id": "e8f50811-c146-46c3-ba69-07c65531074c",
   "metadata": {},
   "outputs": [
    {
     "data": {
      "text/plain": [
       "'ironman'"
      ]
     },
     "execution_count": 14,
     "metadata": {},
     "output_type": "execute_result"
    }
   ],
   "source": [
    "t[-4]"
   ]
  },
  {
   "cell_type": "code",
   "execution_count": 15,
   "id": "757d970e-a4e9-4d1d-88f5-56b308c71d9a",
   "metadata": {},
   "outputs": [
    {
     "data": {
      "text/plain": [
       "('spiderman', 'ironman', 'hulk', 'seven', 'rock')"
      ]
     },
     "execution_count": 15,
     "metadata": {},
     "output_type": "execute_result"
    }
   ],
   "source": [
    "t"
   ]
  },
  {
   "cell_type": "code",
   "execution_count": 16,
   "id": "2d3de4d7-6c42-45ee-aaaa-414a0d992e9a",
   "metadata": {},
   "outputs": [
    {
     "data": {
      "text/plain": [
       "('hulk', 'seven', 'rock')"
      ]
     },
     "execution_count": 16,
     "metadata": {},
     "output_type": "execute_result"
    }
   ],
   "source": [
    "t[2:5]"
   ]
  },
  {
   "cell_type": "code",
   "execution_count": 17,
   "id": "877e7249-78ee-40d3-b439-b30677e29fdc",
   "metadata": {},
   "outputs": [
    {
     "data": {
      "text/plain": [
       "('spiderman', 'ironman', 'hulk', 'seven', 'rock')"
      ]
     },
     "execution_count": 17,
     "metadata": {},
     "output_type": "execute_result"
    }
   ],
   "source": [
    "t[0:5]"
   ]
  },
  {
   "cell_type": "code",
   "execution_count": 18,
   "id": "85c6f71a-dbc3-4beb-a619-e668be49907d",
   "metadata": {},
   "outputs": [
    {
     "data": {
      "text/plain": [
       "('ironman', 'hulk')"
      ]
     },
     "execution_count": 18,
     "metadata": {},
     "output_type": "execute_result"
    }
   ],
   "source": [
    "t[-4:-2]"
   ]
  },
  {
   "cell_type": "code",
   "execution_count": 19,
   "id": "df433ac8-828b-4301-a6e0-a9b8c9e836e3",
   "metadata": {},
   "outputs": [
    {
     "data": {
      "text/plain": [
       "('ironman', 'hulk', 'seven')"
      ]
     },
     "execution_count": 19,
     "metadata": {},
     "output_type": "execute_result"
    }
   ],
   "source": [
    "t[-4:4]"
   ]
  },
  {
   "cell_type": "code",
   "execution_count": 20,
   "id": "60f110ea-d4e4-421f-b65b-59f51f571b78",
   "metadata": {},
   "outputs": [
    {
     "data": {
      "text/plain": [
       "('ironman', 'hulk', 'seven', 'rock')"
      ]
     },
     "execution_count": 20,
     "metadata": {},
     "output_type": "execute_result"
    }
   ],
   "source": [
    "t[1:]"
   ]
  },
  {
   "cell_type": "code",
   "execution_count": 21,
   "id": "be6939df-cbc3-4b7a-ab3d-d6c7af869fec",
   "metadata": {},
   "outputs": [
    {
     "data": {
      "text/plain": [
       "('spiderman', 'ironman', 'hulk')"
      ]
     },
     "execution_count": 21,
     "metadata": {},
     "output_type": "execute_result"
    }
   ],
   "source": [
    "t[:3]"
   ]
  },
  {
   "cell_type": "code",
   "execution_count": 22,
   "id": "6f0b8ea3-bf20-43b7-8a49-1833d564983c",
   "metadata": {},
   "outputs": [
    {
     "data": {
      "text/plain": [
       "()"
      ]
     },
     "execution_count": 22,
     "metadata": {},
     "output_type": "execute_result"
    }
   ],
   "source": [
    "t[22:34]"
   ]
  },
  {
   "cell_type": "code",
   "execution_count": 23,
   "id": "5146b8c5-4071-4a93-8b4a-73488fe40d25",
   "metadata": {},
   "outputs": [
    {
     "data": {
      "text/plain": [
       "('spiderman', 'hulk', 'rock')"
      ]
     },
     "execution_count": 23,
     "metadata": {},
     "output_type": "execute_result"
    }
   ],
   "source": [
    "t[0:5:2]"
   ]
  },
  {
   "cell_type": "code",
   "execution_count": 24,
   "id": "c0b4d92e-e146-4e92-adc5-e43bc5006779",
   "metadata": {},
   "outputs": [
    {
     "data": {
      "text/plain": [
       "['__add__',\n",
       " '__class__',\n",
       " '__class_getitem__',\n",
       " '__contains__',\n",
       " '__delattr__',\n",
       " '__dir__',\n",
       " '__doc__',\n",
       " '__eq__',\n",
       " '__format__',\n",
       " '__ge__',\n",
       " '__getattribute__',\n",
       " '__getitem__',\n",
       " '__getnewargs__',\n",
       " '__gt__',\n",
       " '__hash__',\n",
       " '__init__',\n",
       " '__init_subclass__',\n",
       " '__iter__',\n",
       " '__le__',\n",
       " '__len__',\n",
       " '__lt__',\n",
       " '__mul__',\n",
       " '__ne__',\n",
       " '__new__',\n",
       " '__reduce__',\n",
       " '__reduce_ex__',\n",
       " '__repr__',\n",
       " '__rmul__',\n",
       " '__setattr__',\n",
       " '__sizeof__',\n",
       " '__str__',\n",
       " '__subclasshook__',\n",
       " 'count',\n",
       " 'index']"
      ]
     },
     "execution_count": 24,
     "metadata": {},
     "output_type": "execute_result"
    }
   ],
   "source": [
    "dir (       ()                )"
   ]
  },
  {
   "cell_type": "code",
   "execution_count": 25,
   "id": "1bcb3f33-9211-4ad0-b6b9-ebd9fbf9cfc9",
   "metadata": {},
   "outputs": [],
   "source": [
    "t=(1,2,3,4,5,6,7,8,3,4,1,6,7,3,2,1)"
   ]
  },
  {
   "cell_type": "code",
   "execution_count": 26,
   "id": "9fc7b592-2563-4a66-9182-09fef8fc09e7",
   "metadata": {},
   "outputs": [
    {
     "data": {
      "text/plain": [
       "3"
      ]
     },
     "execution_count": 26,
     "metadata": {},
     "output_type": "execute_result"
    }
   ],
   "source": [
    "t.count(1)"
   ]
  },
  {
   "cell_type": "code",
   "execution_count": 27,
   "id": "c6d30ed8-517b-40e2-bb6d-664565a8edc6",
   "metadata": {},
   "outputs": [
    {
     "data": {
      "text/plain": [
       "0"
      ]
     },
     "execution_count": 27,
     "metadata": {},
     "output_type": "execute_result"
    }
   ],
   "source": [
    "t.count(99)"
   ]
  },
  {
   "cell_type": "code",
   "execution_count": 28,
   "id": "72f8c311-01e7-4d34-a263-491cd12a2f4e",
   "metadata": {},
   "outputs": [],
   "source": [
    "def call(t,x):\n",
    "    return t.count(x)"
   ]
  },
  {
   "cell_type": "code",
   "execution_count": 29,
   "id": "e16f1c41-3196-4431-99e3-46523a83a89b",
   "metadata": {},
   "outputs": [],
   "source": [
    "t=(1,2,3,4,5,6,7,8,3,4,1,6,7,3,2,1)"
   ]
  },
  {
   "cell_type": "code",
   "execution_count": 30,
   "id": "56689a02-cd45-422f-ab65-4410463befbe",
   "metadata": {},
   "outputs": [
    {
     "data": {
      "text/plain": [
       "3"
      ]
     },
     "execution_count": 30,
     "metadata": {},
     "output_type": "execute_result"
    }
   ],
   "source": [
    "call(t,3)"
   ]
  },
  {
   "cell_type": "code",
   "execution_count": 31,
   "id": "0cb0705c-4f8e-4a1f-8fcd-890722958182",
   "metadata": {},
   "outputs": [
    {
     "ename": "ValueError",
     "evalue": "tuple.index(x): x not in tuple",
     "output_type": "error",
     "traceback": [
      "\u001b[1;31m---------------------------------------------------------------------------\u001b[0m",
      "\u001b[1;31mValueError\u001b[0m                                Traceback (most recent call last)",
      "\u001b[1;32m<ipython-input-31-a0dc6336a17c>\u001b[0m in \u001b[0;36m<module>\u001b[1;34m\u001b[0m\n\u001b[1;32m----> 1\u001b[1;33m \u001b[0mt\u001b[0m\u001b[1;33m.\u001b[0m\u001b[0mindex\u001b[0m\u001b[1;33m(\u001b[0m\u001b[1;36m91\u001b[0m\u001b[1;33m)\u001b[0m\u001b[1;33m\u001b[0m\u001b[1;33m\u001b[0m\u001b[0m\n\u001b[0m",
      "\u001b[1;31mValueError\u001b[0m: tuple.index(x): x not in tuple"
     ]
    }
   ],
   "source": [
    "t.index(91)"
   ]
  },
  {
   "cell_type": "code",
   "execution_count": 32,
   "id": "161d4548-8b3f-4fbe-b887-2987f40d2d05",
   "metadata": {},
   "outputs": [
    {
     "data": {
      "text/plain": [
       "0"
      ]
     },
     "execution_count": 32,
     "metadata": {},
     "output_type": "execute_result"
    }
   ],
   "source": [
    "t.index(1)"
   ]
  },
  {
   "cell_type": "code",
   "execution_count": 33,
   "id": "57db5589-86a2-4e40-8058-e011a34a68d0",
   "metadata": {},
   "outputs": [
    {
     "data": {
      "text/plain": [
       "16"
      ]
     },
     "execution_count": 33,
     "metadata": {},
     "output_type": "execute_result"
    }
   ],
   "source": [
    "len(t)"
   ]
  },
  {
   "cell_type": "code",
   "execution_count": 34,
   "id": "889ff6cb-c7b3-4c08-83c8-c5d8bc866baf",
   "metadata": {},
   "outputs": [
    {
     "data": {
      "text/plain": [
       "8"
      ]
     },
     "execution_count": 34,
     "metadata": {},
     "output_type": "execute_result"
    }
   ],
   "source": [
    "max(t)"
   ]
  },
  {
   "cell_type": "code",
   "execution_count": 35,
   "id": "24042ff7-ebdb-4a72-90ee-d148a655b0bb",
   "metadata": {},
   "outputs": [
    {
     "data": {
      "text/plain": [
       "1"
      ]
     },
     "execution_count": 35,
     "metadata": {},
     "output_type": "execute_result"
    }
   ],
   "source": [
    "min(t)"
   ]
  },
  {
   "cell_type": "code",
   "execution_count": 36,
   "id": "8fb2a49a-afd8-4eec-90d2-9684ae02a09a",
   "metadata": {},
   "outputs": [],
   "source": [
    "t1=1,2\n",
    "t2=3,4\n",
    "t3=t1+t2"
   ]
  },
  {
   "cell_type": "code",
   "execution_count": 37,
   "id": "fc4fe732-bc46-4c75-b8f5-2608572a5b1c",
   "metadata": {},
   "outputs": [
    {
     "data": {
      "text/plain": [
       "(1, 2, 3, 4)"
      ]
     },
     "execution_count": 37,
     "metadata": {},
     "output_type": "execute_result"
    }
   ],
   "source": [
    "t3"
   ]
  },
  {
   "cell_type": "code",
   "execution_count": 38,
   "id": "577218e2-7d1f-4d63-8cc8-2a31e8dcc802",
   "metadata": {},
   "outputs": [
    {
     "data": {
      "text/plain": [
       "(1,\n",
       " 2,\n",
       " 3,\n",
       " 4,\n",
       " 1,\n",
       " 2,\n",
       " 3,\n",
       " 4,\n",
       " 1,\n",
       " 2,\n",
       " 3,\n",
       " 4,\n",
       " 1,\n",
       " 2,\n",
       " 3,\n",
       " 4,\n",
       " 1,\n",
       " 2,\n",
       " 3,\n",
       " 4,\n",
       " 1,\n",
       " 2,\n",
       " 3,\n",
       " 4,\n",
       " 1,\n",
       " 2,\n",
       " 3,\n",
       " 4,\n",
       " 1,\n",
       " 2,\n",
       " 3,\n",
       " 4,\n",
       " 1,\n",
       " 2,\n",
       " 3,\n",
       " 4,\n",
       " 1,\n",
       " 2,\n",
       " 3,\n",
       " 4,\n",
       " 1,\n",
       " 2,\n",
       " 3,\n",
       " 4,\n",
       " 1,\n",
       " 2,\n",
       " 3,\n",
       " 4)"
      ]
     },
     "execution_count": 38,
     "metadata": {},
     "output_type": "execute_result"
    }
   ],
   "source": [
    "t3*12"
   ]
  },
  {
   "cell_type": "code",
   "execution_count": 39,
   "id": "37781f3a-6749-4b85-bc2f-178c81743ca6",
   "metadata": {},
   "outputs": [
    {
     "data": {
      "text/plain": [
       "'AAAAAAAAAAAAAAAAAAAAAAAAAA'"
      ]
     },
     "execution_count": 39,
     "metadata": {},
     "output_type": "execute_result"
    }
   ],
   "source": [
    "s='A'*26\n",
    "s"
   ]
  },
  {
   "cell_type": "code",
   "execution_count": 40,
   "id": "4de267c9-1fc2-4f82-aab0-85e1d8bb8bbe",
   "metadata": {},
   "outputs": [
    {
     "data": {
      "text/plain": [
       "2763377699216"
      ]
     },
     "execution_count": 40,
     "metadata": {},
     "output_type": "execute_result"
    }
   ],
   "source": [
    "i1=256\n",
    "i2=256\n",
    "id(i1)\n",
    "id(i2)"
   ]
  },
  {
   "cell_type": "code",
   "execution_count": 41,
   "id": "66e43f49-e990-4c0e-b548-3c730dba46da",
   "metadata": {},
   "outputs": [
    {
     "ename": "TypeError",
     "evalue": "id() takes exactly one argument (2 given)",
     "output_type": "error",
     "traceback": [
      "\u001b[1;31m---------------------------------------------------------------------------\u001b[0m",
      "\u001b[1;31mTypeError\u001b[0m                                 Traceback (most recent call last)",
      "\u001b[1;32m<ipython-input-41-711c074dc837>\u001b[0m in \u001b[0;36m<module>\u001b[1;34m\u001b[0m\n\u001b[1;32m----> 1\u001b[1;33m \u001b[0mid\u001b[0m\u001b[1;33m(\u001b[0m\u001b[0mi1\u001b[0m\u001b[1;33m,\u001b[0m\u001b[0mi2\u001b[0m\u001b[1;33m)\u001b[0m\u001b[1;33m\u001b[0m\u001b[1;33m\u001b[0m\u001b[0m\n\u001b[0m",
      "\u001b[1;31mTypeError\u001b[0m: id() takes exactly one argument (2 given)"
     ]
    }
   ],
   "source": [
    "id(i1,i2)\n"
   ]
  },
  {
   "cell_type": "code",
   "execution_count": 42,
   "id": "8afd1a0e-56e3-41fd-ba2e-f16ff44eeaf2",
   "metadata": {},
   "outputs": [
    {
     "name": "stdout",
     "output_type": "stream",
     "text": [
      "2763377699216 2763377699216\n"
     ]
    }
   ],
   "source": [
    "print(id(i1),id(i2))"
   ]
  },
  {
   "cell_type": "code",
   "execution_count": 43,
   "id": "0d9ce3f7-e9a7-473c-8c18-5826ca2fb5b2",
   "metadata": {},
   "outputs": [
    {
     "name": "stdout",
     "output_type": "stream",
     "text": [
      "2763451937328 2763451937776\n"
     ]
    }
   ],
   "source": [
    "i1=257\n",
    "i2=257\n",
    "print(id(i1),id(i2))"
   ]
  },
  {
   "cell_type": "code",
   "execution_count": 44,
   "id": "3393e1c7-882c-4f35-a649-7ab4dab9341e",
   "metadata": {},
   "outputs": [],
   "source": [
    "# -5 to 256"
   ]
  },
  {
   "cell_type": "code",
   "execution_count": 45,
   "id": "7506b6d8-c57d-463d-ace9-11bddb800bbe",
   "metadata": {},
   "outputs": [
    {
     "ename": "SyntaxError",
     "evalue": "unexpected EOF while parsing (<ipython-input-45-913503a85e0a>, line 3)",
     "output_type": "error",
     "traceback": [
      "\u001b[1;36m  File \u001b[1;32m\"<ipython-input-45-913503a85e0a>\"\u001b[1;36m, line \u001b[1;32m3\u001b[0m\n\u001b[1;33m    print(id(a,id(b))\u001b[0m\n\u001b[1;37m                     ^\u001b[0m\n\u001b[1;31mSyntaxError\u001b[0m\u001b[1;31m:\u001b[0m unexpected EOF while parsing\n"
     ]
    }
   ],
   "source": [
    "a='aaaaaaaaaaaa'\n",
    "b='aaaaaaaaaaaa'\n",
    "print(id(a,id(b))"
   ]
  },
  {
   "cell_type": "code",
   "execution_count": 46,
   "id": "0d238eeb-d9e2-4ffb-897d-c51fa123a392",
   "metadata": {},
   "outputs": [
    {
     "ename": "NameError",
     "evalue": "name 'a' is not defined",
     "output_type": "error",
     "traceback": [
      "\u001b[1;31m---------------------------------------------------------------------------\u001b[0m",
      "\u001b[1;31mNameError\u001b[0m                                 Traceback (most recent call last)",
      "\u001b[1;32m<ipython-input-46-5fd7fc065848>\u001b[0m in \u001b[0;36m<module>\u001b[1;34m\u001b[0m\n\u001b[1;32m----> 1\u001b[1;33m \u001b[0mprint\u001b[0m\u001b[1;33m(\u001b[0m\u001b[0mid\u001b[0m\u001b[1;33m(\u001b[0m\u001b[0ma\u001b[0m\u001b[1;33m)\u001b[0m\u001b[1;33m,\u001b[0m\u001b[0mid\u001b[0m\u001b[1;33m(\u001b[0m\u001b[0mb\u001b[0m\u001b[1;33m)\u001b[0m\u001b[1;33m)\u001b[0m\u001b[1;33m\u001b[0m\u001b[1;33m\u001b[0m\u001b[0m\n\u001b[0m",
      "\u001b[1;31mNameError\u001b[0m: name 'a' is not defined"
     ]
    }
   ],
   "source": [
    "print(id(a),id(b))"
   ]
  },
  {
   "cell_type": "code",
   "execution_count": 47,
   "id": "cec5dd69-d8b0-4757-9fae-e02ac01a0bcb",
   "metadata": {},
   "outputs": [
    {
     "name": "stdout",
     "output_type": "stream",
     "text": [
      "2763451946416 2763451946416\n"
     ]
    }
   ],
   "source": [
    "a='aaaaaaaaaaaa'\n",
    "b='aaaaaaaaaaaa'\n",
    "print(id(a),id(b))"
   ]
  },
  {
   "cell_type": "code",
   "execution_count": 48,
   "id": "4a23e0da-0171-4a13-a9b8-d76825844862",
   "metadata": {},
   "outputs": [
    {
     "name": "stdout",
     "output_type": "stream",
     "text": [
      "2763440548208 2763440548208\n"
     ]
    }
   ],
   "source": [
    "x='a'*4096\n",
    "y='a'*4096\n",
    "print(id(x),id(y))"
   ]
  },
  {
   "cell_type": "code",
   "execution_count": 49,
   "id": "c2b05f2d-362a-4dcf-898d-d331a410d052",
   "metadata": {},
   "outputs": [
    {
     "name": "stdout",
     "output_type": "stream",
     "text": [
      "2763440209152 2763440229744\n"
     ]
    }
   ],
   "source": [
    "x='a'*4097\n",
    "y='a'*4097\n",
    "print(id(x),id(y))"
   ]
  },
  {
   "cell_type": "code",
   "execution_count": 50,
   "id": "b09035df-fcde-44a4-b7f6-9e0fc9336112",
   "metadata": {},
   "outputs": [
    {
     "data": {
      "text/plain": [
       "False"
      ]
     },
     "execution_count": 50,
     "metadata": {},
     "output_type": "execute_result"
    }
   ],
   "source": [
    "x is y"
   ]
  },
  {
   "cell_type": "code",
   "execution_count": 51,
   "id": "c2855188-d6e5-442a-8a37-b22bc07e5871",
   "metadata": {},
   "outputs": [
    {
     "name": "stdout",
     "output_type": "stream",
     "text": [
      "2763422500880 2763422500880\n"
     ]
    },
    {
     "data": {
      "text/plain": [
       "True"
      ]
     },
     "execution_count": 51,
     "metadata": {},
     "output_type": "execute_result"
    }
   ],
   "source": [
    "x='a'*4096\n",
    "y='a'*4096\n",
    "print(id(x),id(y))\n",
    "x is y"
   ]
  },
  {
   "cell_type": "code",
   "execution_count": 52,
   "id": "c5b96b05-de69-4bfe-a625-1ce7212d4cf6",
   "metadata": {},
   "outputs": [
    {
     "name": "stdout",
     "output_type": "stream",
     "text": [
      "2763440229744 2763440209152\n"
     ]
    },
    {
     "data": {
      "text/plain": [
       "False"
      ]
     },
     "execution_count": 52,
     "metadata": {},
     "output_type": "execute_result"
    }
   ],
   "source": [
    "x='a'*4097\n",
    "y='a'*4097\n",
    "print(id(x),id(y))\n",
    "x is y"
   ]
  },
  {
   "cell_type": "code",
   "execution_count": 53,
   "id": "e83fdf70-bb3e-4d30-9e09-b687fbc82ea7",
   "metadata": {},
   "outputs": [
    {
     "name": "stdout",
     "output_type": "stream",
     "text": [
      "2763441095472 2763441456912\n"
     ]
    },
    {
     "data": {
      "text/plain": [
       "False"
      ]
     },
     "execution_count": 53,
     "metadata": {},
     "output_type": "execute_result"
    }
   ],
   "source": [
    "x='a'*7000\n",
    "y='a'*7000\n",
    "print(id(x),id(y))\n",
    "x is y"
   ]
  },
  {
   "cell_type": "code",
   "execution_count": 54,
   "id": "367396e3-0ef4-407c-9207-d3a3bca6180d",
   "metadata": {},
   "outputs": [
    {
     "name": "stdout",
     "output_type": "stream",
     "text": [
      "2763442851296 2763442851296\n"
     ]
    },
    {
     "data": {
      "text/plain": [
       "True"
      ]
     },
     "execution_count": 54,
     "metadata": {},
     "output_type": "execute_result"
    }
   ],
   "source": [
    "import sys as w\n",
    "x=w.intern('a'*27000)\n",
    "y=w.intern('a'*27000)\n",
    "print(id(x),id(y))\n",
    "x is y"
   ]
  },
  {
   "cell_type": "code",
   "execution_count": 55,
   "id": "8ef8f782-4491-4f2c-99c0-1144c3d05658",
   "metadata": {},
   "outputs": [
    {
     "name": "stdout",
     "output_type": "stream",
     "text": [
      "2763442858368 2763442858368\n"
     ]
    },
    {
     "data": {
      "text/plain": [
       "True"
      ]
     },
     "execution_count": 55,
     "metadata": {},
     "output_type": "execute_result"
    }
   ],
   "source": [
    "import sys as w\n",
    "x=w.intern('a'*27000)\n",
    "y=w.intern('a'*27000)\n",
    "print(id(x),id(y))\n",
    "x is y"
   ]
  },
  {
   "cell_type": "code",
   "execution_count": 56,
   "id": "8ed63728-e583-4cf5-9195-8aadc31e2390",
   "metadata": {},
   "outputs": [],
   "source": [
    "t=(1,2,3,4,5,6,7,8,3,4,1,6,7,3,2,1)"
   ]
  },
  {
   "cell_type": "code",
   "execution_count": 57,
   "id": "7bf49edc-8b8d-4cf7-84bb-04b477935d28",
   "metadata": {},
   "outputs": [
    {
     "data": {
      "text/plain": [
       "True"
      ]
     },
     "execution_count": 57,
     "metadata": {},
     "output_type": "execute_result"
    }
   ],
   "source": [
    "1 in t"
   ]
  },
  {
   "cell_type": "code",
   "execution_count": 58,
   "id": "1674f960-18dd-4b00-9f2e-3dcc52a2ee47",
   "metadata": {},
   "outputs": [
    {
     "data": {
      "text/plain": [
       "False"
      ]
     },
     "execution_count": 58,
     "metadata": {},
     "output_type": "execute_result"
    }
   ],
   "source": [
    "11 in t"
   ]
  },
  {
   "cell_type": "code",
   "execution_count": 59,
   "id": "03118607-e961-45b4-a194-79f2dad371f7",
   "metadata": {},
   "outputs": [
    {
     "data": {
      "text/plain": [
       "True"
      ]
     },
     "execution_count": 59,
     "metadata": {},
     "output_type": "execute_result"
    }
   ],
   "source": [
    "11 not in t"
   ]
  },
  {
   "cell_type": "code",
   "execution_count": 60,
   "id": "1fd681ba-04c2-441f-800a-907af75882b5",
   "metadata": {},
   "outputs": [
    {
     "name": "stdout",
     "output_type": "stream",
     "text": [
      "1\n",
      "2\n",
      "3\n",
      "4\n",
      "5\n",
      "6\n",
      "7\n",
      "8\n",
      "3\n",
      "4\n",
      "1\n",
      "6\n",
      "7\n",
      "3\n",
      "2\n",
      "1\n"
     ]
    }
   ],
   "source": [
    "for i in t:\n",
    "    print(i)"
   ]
  },
  {
   "cell_type": "code",
   "execution_count": 61,
   "id": "a6df00de-ccba-4b53-a842-11725c04cbac",
   "metadata": {},
   "outputs": [],
   "source": [
    "t=(1,2,3)"
   ]
  },
  {
   "cell_type": "code",
   "execution_count": 62,
   "id": "32df5e7e-0715-4e45-9190-606083a29f8a",
   "metadata": {},
   "outputs": [],
   "source": [
    "a,b,c=t #Unpacking a tuple"
   ]
  },
  {
   "cell_type": "code",
   "execution_count": 63,
   "id": "00832b7f-3281-455f-98a8-39c324a22993",
   "metadata": {},
   "outputs": [
    {
     "data": {
      "text/plain": [
       "1"
      ]
     },
     "execution_count": 63,
     "metadata": {},
     "output_type": "execute_result"
    }
   ],
   "source": [
    "a"
   ]
  },
  {
   "cell_type": "code",
   "execution_count": 64,
   "id": "1dfe90b7-a269-452e-ae45-01e3131651e9",
   "metadata": {},
   "outputs": [
    {
     "data": {
      "text/plain": [
       "2"
      ]
     },
     "execution_count": 64,
     "metadata": {},
     "output_type": "execute_result"
    }
   ],
   "source": [
    "b"
   ]
  },
  {
   "cell_type": "code",
   "execution_count": 65,
   "id": "275ca7bd-148c-461a-85d7-7b5227df3deb",
   "metadata": {},
   "outputs": [
    {
     "data": {
      "text/plain": [
       "3"
      ]
     },
     "execution_count": 65,
     "metadata": {},
     "output_type": "execute_result"
    }
   ],
   "source": [
    "c"
   ]
  },
  {
   "cell_type": "code",
   "execution_count": 66,
   "id": "b6e5f36e-fa82-44e6-87b8-03cfdc0c2d93",
   "metadata": {},
   "outputs": [
    {
     "ename": "ValueError",
     "evalue": "too many values to unpack (expected 2)",
     "output_type": "error",
     "traceback": [
      "\u001b[1;31m---------------------------------------------------------------------------\u001b[0m",
      "\u001b[1;31mValueError\u001b[0m                                Traceback (most recent call last)",
      "\u001b[1;32m<ipython-input-66-16d2e423859f>\u001b[0m in \u001b[0;36m<module>\u001b[1;34m\u001b[0m\n\u001b[1;32m----> 1\u001b[1;33m \u001b[0ma\u001b[0m\u001b[1;33m,\u001b[0m\u001b[0mb\u001b[0m\u001b[1;33m=\u001b[0m\u001b[0mt\u001b[0m\u001b[1;33m\u001b[0m\u001b[1;33m\u001b[0m\u001b[0m\n\u001b[0m",
      "\u001b[1;31mValueError\u001b[0m: too many values to unpack (expected 2)"
     ]
    }
   ],
   "source": [
    "a,b=t"
   ]
  },
  {
   "cell_type": "code",
   "execution_count": 67,
   "id": "7af051f2-9574-4f3d-b633-c9c01c875d0a",
   "metadata": {},
   "outputs": [
    {
     "ename": "ValueError",
     "evalue": "not enough values to unpack (expected 4, got 3)",
     "output_type": "error",
     "traceback": [
      "\u001b[1;31m---------------------------------------------------------------------------\u001b[0m",
      "\u001b[1;31mValueError\u001b[0m                                Traceback (most recent call last)",
      "\u001b[1;32m<ipython-input-67-4ed877076081>\u001b[0m in \u001b[0;36m<module>\u001b[1;34m\u001b[0m\n\u001b[1;32m----> 1\u001b[1;33m \u001b[0ma\u001b[0m\u001b[1;33m,\u001b[0m\u001b[0mb\u001b[0m\u001b[1;33m,\u001b[0m\u001b[0mc\u001b[0m\u001b[1;33m,\u001b[0m\u001b[0md\u001b[0m\u001b[1;33m=\u001b[0m\u001b[0mt\u001b[0m\u001b[1;33m\u001b[0m\u001b[1;33m\u001b[0m\u001b[0m\n\u001b[0m",
      "\u001b[1;31mValueError\u001b[0m: not enough values to unpack (expected 4, got 3)"
     ]
    }
   ],
   "source": [
    "a,b,c,d=t"
   ]
  },
  {
   "cell_type": "code",
   "execution_count": 68,
   "id": "19bc35f0-2543-4bf6-b4c4-1b8bdfd84ebe",
   "metadata": {},
   "outputs": [
    {
     "data": {
      "text/plain": [
       "['__add__',\n",
       " '__class__',\n",
       " '__class_getitem__',\n",
       " '__contains__',\n",
       " '__delattr__',\n",
       " '__delitem__',\n",
       " '__dir__',\n",
       " '__doc__',\n",
       " '__eq__',\n",
       " '__format__',\n",
       " '__ge__',\n",
       " '__getattribute__',\n",
       " '__getitem__',\n",
       " '__gt__',\n",
       " '__hash__',\n",
       " '__iadd__',\n",
       " '__imul__',\n",
       " '__init__',\n",
       " '__init_subclass__',\n",
       " '__iter__',\n",
       " '__le__',\n",
       " '__len__',\n",
       " '__lt__',\n",
       " '__mul__',\n",
       " '__ne__',\n",
       " '__new__',\n",
       " '__reduce__',\n",
       " '__reduce_ex__',\n",
       " '__repr__',\n",
       " '__reversed__',\n",
       " '__rmul__',\n",
       " '__setattr__',\n",
       " '__setitem__',\n",
       " '__sizeof__',\n",
       " '__str__',\n",
       " '__subclasshook__',\n",
       " 'append',\n",
       " 'clear',\n",
       " 'copy',\n",
       " 'count',\n",
       " 'extend',\n",
       " 'index',\n",
       " 'insert',\n",
       " 'pop',\n",
       " 'remove',\n",
       " 'reverse',\n",
       " 'sort']"
      ]
     },
     "execution_count": 68,
     "metadata": {},
     "output_type": "execute_result"
    }
   ],
   "source": [
    "dir (                     []                   )"
   ]
  },
  {
   "cell_type": "code",
   "execution_count": 69,
   "id": "78450519-fae3-45c8-9003-d7a6833f4dd9",
   "metadata": {},
   "outputs": [],
   "source": [
    "t=(1,2,3)"
   ]
  },
  {
   "cell_type": "code",
   "execution_count": 70,
   "id": "4801c94b-309e-49af-9e5d-4447cdde1b75",
   "metadata": {},
   "outputs": [
    {
     "data": {
      "text/plain": [
       "2763451200064"
      ]
     },
     "execution_count": 70,
     "metadata": {},
     "output_type": "execute_result"
    }
   ],
   "source": [
    "id(t)"
   ]
  },
  {
   "cell_type": "code",
   "execution_count": 71,
   "id": "cb1d7e89-4dac-4d85-99af-34bef1f57b5f",
   "metadata": {},
   "outputs": [],
   "source": [
    "lst=[1,2,3,4,5]"
   ]
  },
  {
   "cell_type": "code",
   "execution_count": 72,
   "id": "a914029a-c2d7-4565-9466-327953008277",
   "metadata": {},
   "outputs": [
    {
     "name": "stdout",
     "output_type": "stream",
     "text": [
      "<class 'list'>\n"
     ]
    }
   ],
   "source": [
    "print(type(lst))"
   ]
  },
  {
   "cell_type": "code",
   "execution_count": 73,
   "id": "dd9bbb14-2111-4c52-87dd-0b8cc2788c8c",
   "metadata": {},
   "outputs": [
    {
     "data": {
      "text/plain": [
       "2763451803904"
      ]
     },
     "execution_count": 73,
     "metadata": {},
     "output_type": "execute_result"
    }
   ],
   "source": [
    "id(lst)"
   ]
  },
  {
   "cell_type": "code",
   "execution_count": 74,
   "id": "2fa07f66-2037-419d-9e48-e9516af902c0",
   "metadata": {},
   "outputs": [],
   "source": [
    "lst=[1,2,3,4,5,99]"
   ]
  },
  {
   "cell_type": "code",
   "execution_count": 75,
   "id": "fdb05282-a986-446c-9e2b-ab47afd7d930",
   "metadata": {},
   "outputs": [
    {
     "data": {
      "text/plain": [
       "2763451876992"
      ]
     },
     "execution_count": 75,
     "metadata": {},
     "output_type": "execute_result"
    }
   ],
   "source": [
    "id(lst)"
   ]
  },
  {
   "cell_type": "code",
   "execution_count": 76,
   "id": "27d0a758-dddf-4308-bfb8-1b05caa2966e",
   "metadata": {},
   "outputs": [],
   "source": [
    "lst=[]"
   ]
  },
  {
   "cell_type": "code",
   "execution_count": 77,
   "id": "ab0753f4-a30b-47b4-bca7-2da8f9a15e9c",
   "metadata": {},
   "outputs": [],
   "source": [
    "lst=1,3"
   ]
  },
  {
   "cell_type": "code",
   "execution_count": 78,
   "id": "1f6fe13d-e549-4f4d-b88a-eb46badeefdc",
   "metadata": {},
   "outputs": [
    {
     "name": "stdout",
     "output_type": "stream",
     "text": [
      "<class 'tuple'>\n"
     ]
    }
   ],
   "source": [
    "print(type(lst))"
   ]
  },
  {
   "cell_type": "code",
   "execution_count": 79,
   "id": "df22fbd2-7c4a-4e78-a420-d359b0613b49",
   "metadata": {},
   "outputs": [],
   "source": [
    "lst=[1,2,3,4,5,99]"
   ]
  },
  {
   "cell_type": "code",
   "execution_count": 80,
   "id": "853dc780-e3a3-4312-89ab-17cd72c3690d",
   "metadata": {},
   "outputs": [],
   "source": [
    "lst.append(22)"
   ]
  },
  {
   "cell_type": "code",
   "execution_count": 81,
   "id": "062d2bcd-82e9-4971-9a60-f36c15939ca0",
   "metadata": {},
   "outputs": [
    {
     "data": {
      "text/plain": [
       "[1, 2, 3, 4, 5, 99, 22]"
      ]
     },
     "execution_count": 81,
     "metadata": {},
     "output_type": "execute_result"
    }
   ],
   "source": [
    "lst"
   ]
  },
  {
   "cell_type": "code",
   "execution_count": 82,
   "id": "527f978f-ac48-482b-bb81-1e5885f2cca8",
   "metadata": {},
   "outputs": [],
   "source": [
    "l1=[1,2,3]\n",
    "l2=[1,2,3]"
   ]
  },
  {
   "cell_type": "code",
   "execution_count": 83,
   "id": "959454d3-c6fe-475a-a60a-8b883b5b02a1",
   "metadata": {},
   "outputs": [
    {
     "data": {
      "text/plain": [
       "False"
      ]
     },
     "execution_count": 83,
     "metadata": {},
     "output_type": "execute_result"
    }
   ],
   "source": [
    "l1 is l2\n"
   ]
  },
  {
   "cell_type": "code",
   "execution_count": 84,
   "id": "fb1b38a6-0be2-404c-945c-216efeac06c1",
   "metadata": {},
   "outputs": [
    {
     "data": {
      "text/plain": [
       "2763451898048"
      ]
     },
     "execution_count": 84,
     "metadata": {},
     "output_type": "execute_result"
    }
   ],
   "source": [
    "id(l1)"
   ]
  },
  {
   "cell_type": "code",
   "execution_count": 85,
   "id": "00d7ede1-0e3a-43c7-9534-5b84a9fb0705",
   "metadata": {},
   "outputs": [
    {
     "data": {
      "text/plain": [
       "2763451971200"
      ]
     },
     "execution_count": 85,
     "metadata": {},
     "output_type": "execute_result"
    }
   ],
   "source": [
    "id(l2)"
   ]
  },
  {
   "cell_type": "code",
   "execution_count": 86,
   "id": "13b0bdf5-18e8-4873-957d-fabf8a8ef1a6",
   "metadata": {},
   "outputs": [
    {
     "data": {
      "text/plain": [
       "True"
      ]
     },
     "execution_count": 86,
     "metadata": {},
     "output_type": "execute_result"
    }
   ],
   "source": [
    "l1==l2"
   ]
  },
  {
   "cell_type": "code",
   "execution_count": 87,
   "id": "817cba32-2245-4568-b58e-05ae40c75c8d",
   "metadata": {},
   "outputs": [
    {
     "data": {
      "text/plain": [
       "True"
      ]
     },
     "execution_count": 87,
     "metadata": {},
     "output_type": "execute_result"
    }
   ],
   "source": [
    "z=12\n",
    "s=12\n",
    "z==s"
   ]
  },
  {
   "cell_type": "code",
   "execution_count": 88,
   "id": "e30d8936-4480-4237-9806-2c866b1a605f",
   "metadata": {},
   "outputs": [
    {
     "data": {
      "text/plain": [
       "True"
      ]
     },
     "execution_count": 88,
     "metadata": {},
     "output_type": "execute_result"
    }
   ],
   "source": [
    "z is s"
   ]
  },
  {
   "cell_type": "code",
   "execution_count": 89,
   "id": "aecb3c35-6c77-494e-9b09-38a17087411e",
   "metadata": {},
   "outputs": [
    {
     "data": {
      "text/plain": [
       "True"
      ]
     },
     "execution_count": 89,
     "metadata": {},
     "output_type": "execute_result"
    }
   ],
   "source": [
    "z=1112\n",
    "s=1112\n",
    "z==s"
   ]
  },
  {
   "cell_type": "code",
   "execution_count": 90,
   "id": "46cba61d-9f72-42d8-b505-a0b626e4b68d",
   "metadata": {},
   "outputs": [
    {
     "data": {
      "text/plain": [
       "False"
      ]
     },
     "execution_count": 90,
     "metadata": {},
     "output_type": "execute_result"
    }
   ],
   "source": [
    "z is s"
   ]
  },
  {
   "cell_type": "code",
   "execution_count": 91,
   "id": "bc528c1a-5437-4ea9-bb70-70815ed8416d",
   "metadata": {},
   "outputs": [],
   "source": [
    "list=['a','b','c','d']"
   ]
  },
  {
   "cell_type": "code",
   "execution_count": 92,
   "id": "a8898485-bb8b-4346-8558-f053ec1c544b",
   "metadata": {},
   "outputs": [
    {
     "data": {
      "text/plain": [
       "['a', 'b', 'c', 'd']"
      ]
     },
     "execution_count": 92,
     "metadata": {},
     "output_type": "execute_result"
    }
   ],
   "source": [
    "list\n"
   ]
  },
  {
   "cell_type": "code",
   "execution_count": 93,
   "id": "8a3215b3-72a1-4e8a-acdb-3c11426e5218",
   "metadata": {},
   "outputs": [
    {
     "data": {
      "text/plain": [
       "'a'"
      ]
     },
     "execution_count": 93,
     "metadata": {},
     "output_type": "execute_result"
    }
   ],
   "source": [
    "list[0]"
   ]
  },
  {
   "cell_type": "code",
   "execution_count": 94,
   "id": "69d874a8-587a-4252-8249-ed621fdf3be6",
   "metadata": {},
   "outputs": [
    {
     "data": {
      "text/plain": [
       "'d'"
      ]
     },
     "execution_count": 94,
     "metadata": {},
     "output_type": "execute_result"
    }
   ],
   "source": [
    "list[3]"
   ]
  },
  {
   "cell_type": "code",
   "execution_count": 95,
   "id": "80ac3806-9a21-4b32-8013-9034da77ca0d",
   "metadata": {},
   "outputs": [],
   "source": [
    "list[0]='AMITAVA'"
   ]
  },
  {
   "cell_type": "code",
   "execution_count": 96,
   "id": "b203254d-1341-4283-b1be-e9fa66f9a5ca",
   "metadata": {},
   "outputs": [
    {
     "data": {
      "text/plain": [
       "['AMITAVA', 'b', 'c', 'd']"
      ]
     },
     "execution_count": 96,
     "metadata": {},
     "output_type": "execute_result"
    }
   ],
   "source": [
    "list"
   ]
  },
  {
   "cell_type": "code",
   "execution_count": 97,
   "id": "8803f490-ca05-413f-b336-57d4e1f0a8f5",
   "metadata": {},
   "outputs": [
    {
     "ename": "TypeError",
     "evalue": "list indices must be integers or slices, not str",
     "output_type": "error",
     "traceback": [
      "\u001b[1;31m---------------------------------------------------------------------------\u001b[0m",
      "\u001b[1;31mTypeError\u001b[0m                                 Traceback (most recent call last)",
      "\u001b[1;32m<ipython-input-97-baceb8e40a89>\u001b[0m in \u001b[0;36m<module>\u001b[1;34m\u001b[0m\n\u001b[1;32m----> 1\u001b[1;33m \u001b[1;32mdel\u001b[0m \u001b[0mlist\u001b[0m\u001b[1;33m[\u001b[0m\u001b[1;34m'b'\u001b[0m\u001b[1;33m]\u001b[0m\u001b[1;33m\u001b[0m\u001b[1;33m\u001b[0m\u001b[0m\n\u001b[0m",
      "\u001b[1;31mTypeError\u001b[0m: list indices must be integers or slices, not str"
     ]
    }
   ],
   "source": [
    "del list['b']"
   ]
  },
  {
   "cell_type": "code",
   "execution_count": 98,
   "id": "ceeda18b-95a1-498f-b912-12320618a24c",
   "metadata": {},
   "outputs": [],
   "source": [
    "del list[2]"
   ]
  },
  {
   "cell_type": "code",
   "execution_count": 99,
   "id": "3e97462c-9801-47e4-a434-2e770f1ba728",
   "metadata": {},
   "outputs": [
    {
     "data": {
      "text/plain": [
       "['AMITAVA', 'b', 'd']"
      ]
     },
     "execution_count": 99,
     "metadata": {},
     "output_type": "execute_result"
    }
   ],
   "source": [
    "list"
   ]
  },
  {
   "cell_type": "code",
   "execution_count": 100,
   "id": "c438e480-4a01-45fd-b628-7cc3fcf6514c",
   "metadata": {},
   "outputs": [],
   "source": [
    "del list[1:2]"
   ]
  },
  {
   "cell_type": "code",
   "execution_count": 101,
   "id": "aed7e112-55c4-4f76-8768-878b85dfb4fb",
   "metadata": {},
   "outputs": [
    {
     "data": {
      "text/plain": [
       "['AMITAVA', 'd']"
      ]
     },
     "execution_count": 101,
     "metadata": {},
     "output_type": "execute_result"
    }
   ],
   "source": [
    "list\n"
   ]
  },
  {
   "cell_type": "code",
   "execution_count": 102,
   "id": "095d9960-3219-4858-bedf-e57e751fe6f6",
   "metadata": {},
   "outputs": [
    {
     "data": {
      "text/plain": [
       "['AMITAVA',\n",
       " 'd',\n",
       " 'AMITAVA',\n",
       " 'd',\n",
       " 'AMITAVA',\n",
       " 'd',\n",
       " 'AMITAVA',\n",
       " 'd',\n",
       " 'AMITAVA',\n",
       " 'd',\n",
       " 'AMITAVA',\n",
       " 'd',\n",
       " 'AMITAVA',\n",
       " 'd',\n",
       " 'AMITAVA',\n",
       " 'd',\n",
       " 'AMITAVA',\n",
       " 'd',\n",
       " 'AMITAVA',\n",
       " 'd',\n",
       " 'AMITAVA',\n",
       " 'd',\n",
       " 'AMITAVA',\n",
       " 'd']"
      ]
     },
     "execution_count": 102,
     "metadata": {},
     "output_type": "execute_result"
    }
   ],
   "source": [
    "list*12"
   ]
  },
  {
   "cell_type": "code",
   "execution_count": 103,
   "id": "dca32138-4627-4cb2-a3cc-1464dce8b80d",
   "metadata": {},
   "outputs": [
    {
     "data": {
      "text/plain": [
       "True"
      ]
     },
     "execution_count": 103,
     "metadata": {},
     "output_type": "execute_result"
    }
   ],
   "source": [
    "'AMITAVA' in list"
   ]
  },
  {
   "cell_type": "code",
   "execution_count": 104,
   "id": "63cb510d-7779-4cff-8a2f-db5705c6f4b0",
   "metadata": {},
   "outputs": [
    {
     "data": {
      "text/plain": [
       "False"
      ]
     },
     "execution_count": 104,
     "metadata": {},
     "output_type": "execute_result"
    }
   ],
   "source": [
    "'AMITAvA' in list"
   ]
  },
  {
   "cell_type": "code",
   "execution_count": 105,
   "id": "6689737e-90b6-4742-a356-9f80ac7d0b38",
   "metadata": {},
   "outputs": [
    {
     "data": {
      "text/plain": [
       "False"
      ]
     },
     "execution_count": 105,
     "metadata": {},
     "output_type": "execute_result"
    }
   ],
   "source": [
    "'AMITAVA' not in list"
   ]
  },
  {
   "cell_type": "code",
   "execution_count": 106,
   "id": "58d1ce85-56eb-497e-893a-5e394e3350bc",
   "metadata": {},
   "outputs": [
    {
     "data": {
      "text/plain": [
       "2"
      ]
     },
     "execution_count": 106,
     "metadata": {},
     "output_type": "execute_result"
    }
   ],
   "source": [
    "len(list)"
   ]
  },
  {
   "cell_type": "code",
   "execution_count": 107,
   "id": "c8fd8062-369a-497f-bc3c-ac2852dcac73",
   "metadata": {},
   "outputs": [],
   "source": [
    "list.append('IBM')"
   ]
  },
  {
   "cell_type": "code",
   "execution_count": 108,
   "id": "15e8bcc9-dc5c-4c45-ae58-cadbfa545190",
   "metadata": {},
   "outputs": [
    {
     "data": {
      "text/plain": [
       "['AMITAVA', 'd', 'IBM']"
      ]
     },
     "execution_count": 108,
     "metadata": {},
     "output_type": "execute_result"
    }
   ],
   "source": [
    "list\n"
   ]
  },
  {
   "cell_type": "code",
   "execution_count": 109,
   "id": "8814f750-28fe-46d9-b151-4b82f27ec994",
   "metadata": {},
   "outputs": [],
   "source": [
    "list2=[3,4,5]"
   ]
  },
  {
   "cell_type": "code",
   "execution_count": 110,
   "id": "c5bfe79b-a86c-430c-8069-d3e0205565b5",
   "metadata": {},
   "outputs": [],
   "source": [
    "list.extend(list2)"
   ]
  },
  {
   "cell_type": "code",
   "execution_count": 111,
   "id": "7d1e1b17-5d31-4423-aec3-bfa8345d0db4",
   "metadata": {},
   "outputs": [
    {
     "data": {
      "text/plain": [
       "['AMITAVA', 'd', 'IBM', 3, 4, 5]"
      ]
     },
     "execution_count": 111,
     "metadata": {},
     "output_type": "execute_result"
    }
   ],
   "source": [
    "list"
   ]
  },
  {
   "cell_type": "code",
   "execution_count": 112,
   "id": "2d8b050c-4d08-4250-916c-f8fb641180f2",
   "metadata": {},
   "outputs": [],
   "source": [
    "list.insert(0,'CTS')"
   ]
  },
  {
   "cell_type": "code",
   "execution_count": 113,
   "id": "020f5688-4ba1-44cf-8232-68f1d32b930d",
   "metadata": {},
   "outputs": [
    {
     "data": {
      "text/plain": [
       "['CTS', 'AMITAVA', 'd', 'IBM', 3, 4, 5]"
      ]
     },
     "execution_count": 113,
     "metadata": {},
     "output_type": "execute_result"
    }
   ],
   "source": [
    "list"
   ]
  },
  {
   "cell_type": "code",
   "execution_count": 114,
   "id": "016977bf-6531-4816-b519-c449ee5578ae",
   "metadata": {},
   "outputs": [],
   "source": [
    "list.remove('d')"
   ]
  },
  {
   "cell_type": "code",
   "execution_count": 115,
   "id": "72ba5963-3a13-45b3-ad7d-f8c3e0486ec7",
   "metadata": {},
   "outputs": [
    {
     "data": {
      "text/plain": [
       "['CTS', 'AMITAVA', 'IBM', 3, 4, 5]"
      ]
     },
     "execution_count": 115,
     "metadata": {},
     "output_type": "execute_result"
    }
   ],
   "source": [
    "list"
   ]
  },
  {
   "cell_type": "code",
   "execution_count": 116,
   "id": "60880926-c72e-4953-8adf-83a1e7e45e78",
   "metadata": {},
   "outputs": [],
   "source": [
    "p=list.pop(0)"
   ]
  },
  {
   "cell_type": "code",
   "execution_count": 117,
   "id": "71809e7a-3317-4971-84c2-bce67431e4b8",
   "metadata": {},
   "outputs": [
    {
     "data": {
      "text/plain": [
       "'CTS'"
      ]
     },
     "execution_count": 117,
     "metadata": {},
     "output_type": "execute_result"
    }
   ],
   "source": [
    "p"
   ]
  },
  {
   "cell_type": "code",
   "execution_count": 118,
   "id": "a46c2144-b526-485f-8cd9-d585a2e26adb",
   "metadata": {},
   "outputs": [],
   "source": [
    "list.append('IBM')"
   ]
  },
  {
   "cell_type": "code",
   "execution_count": 119,
   "id": "ecb88136-b62c-4688-832d-9789563f0c55",
   "metadata": {},
   "outputs": [
    {
     "data": {
      "text/plain": [
       "['AMITAVA', 'IBM', 3, 4, 5, 'IBM']"
      ]
     },
     "execution_count": 119,
     "metadata": {},
     "output_type": "execute_result"
    }
   ],
   "source": [
    "list"
   ]
  },
  {
   "cell_type": "code",
   "execution_count": 120,
   "id": "201d971e-afc7-4013-9e46-99bfd28f51b7",
   "metadata": {},
   "outputs": [
    {
     "data": {
      "text/plain": [
       "2"
      ]
     },
     "execution_count": 120,
     "metadata": {},
     "output_type": "execute_result"
    }
   ],
   "source": [
    "list.count('IBM')"
   ]
  },
  {
   "cell_type": "code",
   "execution_count": 121,
   "id": "204f0ba1-8f9a-42dd-a4bb-6b742d2f44fd",
   "metadata": {},
   "outputs": [],
   "source": [
    "k=list.copy()"
   ]
  },
  {
   "cell_type": "code",
   "execution_count": 122,
   "id": "1c841365-c1e7-49c1-b0aa-b62d09cafaf8",
   "metadata": {},
   "outputs": [
    {
     "data": {
      "text/plain": [
       "['AMITAVA', 'IBM', 3, 4, 5, 'IBM']"
      ]
     },
     "execution_count": 122,
     "metadata": {},
     "output_type": "execute_result"
    }
   ],
   "source": [
    "k"
   ]
  },
  {
   "cell_type": "code",
   "execution_count": 123,
   "id": "7f51c703-da07-4679-b416-e779eb7c5119",
   "metadata": {},
   "outputs": [],
   "source": [
    "k=[22,1,44,5,99,9]"
   ]
  },
  {
   "cell_type": "code",
   "execution_count": 124,
   "id": "59d12049-e862-4a93-bc8c-784162843a2c",
   "metadata": {},
   "outputs": [],
   "source": [
    "k.sort()"
   ]
  },
  {
   "cell_type": "code",
   "execution_count": 125,
   "id": "69cda20f-6086-4fda-b3ad-27023c0e23cc",
   "metadata": {},
   "outputs": [
    {
     "data": {
      "text/plain": [
       "[1, 5, 9, 22, 44, 99]"
      ]
     },
     "execution_count": 125,
     "metadata": {},
     "output_type": "execute_result"
    }
   ],
   "source": [
    "k"
   ]
  },
  {
   "cell_type": "code",
   "execution_count": 126,
   "id": "dad106d5-6067-4381-8c9b-bb28a2cf28a2",
   "metadata": {},
   "outputs": [],
   "source": [
    "list=[('name','amitava'),('age',48),('exp',20),('married',True)]"
   ]
  },
  {
   "cell_type": "code",
   "execution_count": 127,
   "id": "6c3b3b4b-5af2-44ab-907c-f033b8c96a8c",
   "metadata": {},
   "outputs": [
    {
     "data": {
      "text/plain": [
       "[('name', 'amitava'), ('age', 48), ('exp', 20), ('married', True)]"
      ]
     },
     "execution_count": 127,
     "metadata": {},
     "output_type": "execute_result"
    }
   ],
   "source": [
    "list"
   ]
  },
  {
   "cell_type": "code",
   "execution_count": 128,
   "id": "fbeaab90-c212-45b4-ba35-136b15880b20",
   "metadata": {},
   "outputs": [],
   "source": [
    "def fun1(x):\n",
    "    return x"
   ]
  },
  {
   "cell_type": "code",
   "execution_count": 129,
   "id": "14e61fc5-7329-438f-afb0-c756697e4db8",
   "metadata": {},
   "outputs": [],
   "source": [
    "y=fun1(list)"
   ]
  },
  {
   "cell_type": "code",
   "execution_count": 130,
   "id": "3dcacc1a-37f8-48aa-8aa0-6eaed359a66c",
   "metadata": {},
   "outputs": [
    {
     "data": {
      "text/plain": [
       "[('name', 'amitava'), ('age', 48), ('exp', 20), ('married', True)]"
      ]
     },
     "execution_count": 130,
     "metadata": {},
     "output_type": "execute_result"
    }
   ],
   "source": [
    "y"
   ]
  },
  {
   "cell_type": "code",
   "execution_count": null,
   "id": "b12a068c-21d3-4184-abbb-ff529a93abcb",
   "metadata": {},
   "outputs": [],
   "source": []
  }
 ],
 "metadata": {
  "kernelspec": {
   "display_name": "Python 3",
   "language": "python",
   "name": "python3"
  },
  "language_info": {
   "codemirror_mode": {
    "name": "ipython",
    "version": 3
   },
   "file_extension": ".py",
   "mimetype": "text/x-python",
   "name": "python",
   "nbconvert_exporter": "python",
   "pygments_lexer": "ipython3",
   "version": "3.9.4"
  }
 },
 "nbformat": 4,
 "nbformat_minor": 5
}
